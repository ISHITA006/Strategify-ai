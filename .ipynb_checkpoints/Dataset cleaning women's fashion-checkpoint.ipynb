{
 "cells": [
  {
   "cell_type": "code",
   "execution_count": 1,
   "metadata": {},
   "outputs": [],
   "source": [
    "import pandas as pd"
   ]
  },
  {
   "cell_type": "code",
   "execution_count": 2,
   "metadata": {},
   "outputs": [],
   "source": [
    "file_path = './Womens Clothing E-Commerce Reviews.csv'\n",
    "df = pd.read_csv(file_path)"
   ]
  },
  {
   "cell_type": "code",
   "execution_count": 3,
   "metadata": {},
   "outputs": [],
   "source": [
    "df = df[['Clothing ID','Age','Title', 'Review Text','Rating', 'Recommended IND', 'Positive Feedback Count', 'Division Name', 'Department Name', 'Class Name']]"
   ]
  },
  {
   "cell_type": "code",
   "execution_count": 4,
   "metadata": {},
   "outputs": [
    {
     "data": {
      "text/plain": [
       "array(['Initmates', 'General', 'General Petite', nan], dtype=object)"
      ]
     },
     "execution_count": 4,
     "metadata": {},
     "output_type": "execute_result"
    }
   ],
   "source": [
    "df['Division Name'].unique()"
   ]
  },
  {
   "cell_type": "code",
   "execution_count": 5,
   "metadata": {},
   "outputs": [],
   "source": [
    "df.loc[df['Division Name'] == 'Initmates', 'Division Name'] = 'Intimates'"
   ]
  },
  {
   "cell_type": "code",
   "execution_count": 6,
   "metadata": {},
   "outputs": [
    {
     "data": {
      "text/plain": [
       "array(['Intimates', 'General', 'General Petite', nan], dtype=object)"
      ]
     },
     "execution_count": 6,
     "metadata": {},
     "output_type": "execute_result"
    }
   ],
   "source": [
    "df['Division Name'].unique()"
   ]
  },
  {
   "cell_type": "code",
   "execution_count": 7,
   "metadata": {},
   "outputs": [
    {
     "data": {
      "text/plain": [
       "array(['Intimates', 'Dresses', 'Pants', 'Blouses', 'Knits', 'Outerwear',\n",
       "       'Lounge', 'Sweaters', 'Skirts', 'Fine gauge', 'Sleep', 'Jackets',\n",
       "       'Swim', 'Trend', 'Jeans', 'Legwear', 'Shorts', 'Layering',\n",
       "       'Casual bottoms', nan, 'Chemises'], dtype=object)"
      ]
     },
     "execution_count": 7,
     "metadata": {},
     "output_type": "execute_result"
    }
   ],
   "source": [
    "df['Class Name'].unique()"
   ]
  },
  {
   "cell_type": "code",
   "execution_count": 8,
   "metadata": {},
   "outputs": [
    {
     "data": {
      "text/plain": [
       "array(['yes', 'no'], dtype=object)"
      ]
     },
     "execution_count": 8,
     "metadata": {},
     "output_type": "execute_result"
    }
   ],
   "source": [
    "df.loc[df['Recommended IND'] == 1, 'Recommended IND'] = 'yes'\n",
    "df.loc[df['Recommended IND'] == 0, 'Recommended IND'] = 'no'\n",
    "df['Recommended IND'].unique()"
   ]
  },
  {
   "cell_type": "code",
   "execution_count": 9,
   "metadata": {},
   "outputs": [
    {
     "data": {
      "text/plain": [
       "23486"
      ]
     },
     "execution_count": 9,
     "metadata": {},
     "output_type": "execute_result"
    }
   ],
   "source": [
    "len(df)"
   ]
  },
  {
   "cell_type": "code",
   "execution_count": 10,
   "metadata": {},
   "outputs": [
    {
     "data": {
      "text/plain": [
       "23472"
      ]
     },
     "execution_count": 10,
     "metadata": {},
     "output_type": "execute_result"
    }
   ],
   "source": [
    "df = df[df['Division Name'].notna()]\n",
    "df = df[df['Department Name'].notna()]\n",
    "df = df[df['Class Name'].notna()]\n",
    "len(df)"
   ]
  },
  {
   "cell_type": "code",
   "execution_count": 11,
   "metadata": {},
   "outputs": [],
   "source": [
    "titles = list(df['Title'])\n",
    "reviews = list(df['Review Text'])\n",
    "feedbacks = []\n",
    "for i in range(len(titles)):\n",
    "    title = titles[i]\n",
    "    review = reviews[i]\n",
    "    if type(title)==float:\n",
    "        feedbacks.append(review)\n",
    "    elif type(review)==float:\n",
    "        feedbacks.append(title)\n",
    "    else:\n",
    "        feedbacks.append(title+\" - \"+review)\n",
    "df['Feedback'] = feedbacks"
   ]
  },
  {
   "cell_type": "code",
   "execution_count": 12,
   "metadata": {},
   "outputs": [],
   "source": [
    "df['Product Category'] = df['Department Name']+\"/\"+df['Division Name']+\"/\"+df['Class Name']"
   ]
  },
  {
   "cell_type": "code",
   "execution_count": 13,
   "metadata": {},
   "outputs": [],
   "source": [
    "df= df[['Clothing ID','Age', 'Rating', 'Recommended IND', 'Feedback', 'Positive Feedback Count', 'Product Category']]"
   ]
  },
  {
   "cell_type": "code",
   "execution_count": 14,
   "metadata": {},
   "outputs": [
    {
     "data": {
      "text/html": [
       "<div>\n",
       "<style scoped>\n",
       "    .dataframe tbody tr th:only-of-type {\n",
       "        vertical-align: middle;\n",
       "    }\n",
       "\n",
       "    .dataframe tbody tr th {\n",
       "        vertical-align: top;\n",
       "    }\n",
       "\n",
       "    .dataframe thead th {\n",
       "        text-align: right;\n",
       "    }\n",
       "</style>\n",
       "<table border=\"1\" class=\"dataframe\">\n",
       "  <thead>\n",
       "    <tr style=\"text-align: right;\">\n",
       "      <th></th>\n",
       "      <th>Clothing ID</th>\n",
       "      <th>Age</th>\n",
       "      <th>Rating</th>\n",
       "      <th>Recommended IND</th>\n",
       "      <th>Feedback</th>\n",
       "      <th>Positive Feedback Count</th>\n",
       "      <th>Product Category</th>\n",
       "    </tr>\n",
       "  </thead>\n",
       "  <tbody>\n",
       "    <tr>\n",
       "      <th>0</th>\n",
       "      <td>767</td>\n",
       "      <td>33</td>\n",
       "      <td>4</td>\n",
       "      <td>yes</td>\n",
       "      <td>Absolutely wonderful - silky and sexy and comf...</td>\n",
       "      <td>0</td>\n",
       "      <td>Intimate/Intimates/Intimates</td>\n",
       "    </tr>\n",
       "    <tr>\n",
       "      <th>1</th>\n",
       "      <td>1080</td>\n",
       "      <td>34</td>\n",
       "      <td>5</td>\n",
       "      <td>yes</td>\n",
       "      <td>Love this dress!  it's sooo pretty.  i happene...</td>\n",
       "      <td>4</td>\n",
       "      <td>Dresses/General/Dresses</td>\n",
       "    </tr>\n",
       "    <tr>\n",
       "      <th>2</th>\n",
       "      <td>1077</td>\n",
       "      <td>60</td>\n",
       "      <td>3</td>\n",
       "      <td>no</td>\n",
       "      <td>Some major design flaws - I had such high hope...</td>\n",
       "      <td>0</td>\n",
       "      <td>Dresses/General/Dresses</td>\n",
       "    </tr>\n",
       "    <tr>\n",
       "      <th>3</th>\n",
       "      <td>1049</td>\n",
       "      <td>50</td>\n",
       "      <td>5</td>\n",
       "      <td>yes</td>\n",
       "      <td>My favorite buy! - I love, love, love this jum...</td>\n",
       "      <td>0</td>\n",
       "      <td>Bottoms/General Petite/Pants</td>\n",
       "    </tr>\n",
       "    <tr>\n",
       "      <th>4</th>\n",
       "      <td>847</td>\n",
       "      <td>47</td>\n",
       "      <td>5</td>\n",
       "      <td>yes</td>\n",
       "      <td>Flattering shirt - This shirt is very flatteri...</td>\n",
       "      <td>6</td>\n",
       "      <td>Tops/General/Blouses</td>\n",
       "    </tr>\n",
       "  </tbody>\n",
       "</table>\n",
       "</div>"
      ],
      "text/plain": [
       "   Clothing ID  Age  Rating Recommended IND  \\\n",
       "0          767   33       4             yes   \n",
       "1         1080   34       5             yes   \n",
       "2         1077   60       3              no   \n",
       "3         1049   50       5             yes   \n",
       "4          847   47       5             yes   \n",
       "\n",
       "                                            Feedback  Positive Feedback Count  \\\n",
       "0  Absolutely wonderful - silky and sexy and comf...                        0   \n",
       "1  Love this dress!  it's sooo pretty.  i happene...                        4   \n",
       "2  Some major design flaws - I had such high hope...                        0   \n",
       "3  My favorite buy! - I love, love, love this jum...                        0   \n",
       "4  Flattering shirt - This shirt is very flatteri...                        6   \n",
       "\n",
       "               Product Category  \n",
       "0  Intimate/Intimates/Intimates  \n",
       "1       Dresses/General/Dresses  \n",
       "2       Dresses/General/Dresses  \n",
       "3  Bottoms/General Petite/Pants  \n",
       "4          Tops/General/Blouses  "
      ]
     },
     "execution_count": 14,
     "metadata": {},
     "output_type": "execute_result"
    }
   ],
   "source": [
    "df.head()"
   ]
  },
  {
   "cell_type": "code",
   "execution_count": 15,
   "metadata": {},
   "outputs": [],
   "source": [
    "df = df.dropna(subset=['Feedback'])"
   ]
  },
  {
   "cell_type": "code",
   "execution_count": 16,
   "metadata": {},
   "outputs": [],
   "source": [
    "unique_prods = list(set(list(df['Clothing ID'])))"
   ]
  },
  {
   "cell_type": "code",
   "execution_count": 17,
   "metadata": {},
   "outputs": [],
   "source": [
    "reviews_dict = {}"
   ]
  },
  {
   "cell_type": "code",
   "execution_count": 18,
   "metadata": {},
   "outputs": [],
   "source": [
    "for prod in unique_prods:\n",
    "    df_filtered = df[df['Clothing ID']==prod]\n",
    "    reviews = list(df_filtered['Feedback'])\n",
    "    ages = list(df_filtered['Age'])\n",
    "    ratings = list(df_filtered['Rating'])\n",
    "    recommends = list(df_filtered['Recommended IND'])\n",
    "    pos_feedbacks = list(df_filtered['Positive Feedback Count'])\n",
    "    product_category = list(df_filtered['Product Category'])[0]\n",
    "    reviews_dict[prod] = {\"product_category\": product_category, \"reviewer_age\": ages, \"ratings\": ratings, \\\n",
    "                          \"recommend\": recommends, \"upvotes\": pos_feedbacks, \"reviews\": reviews}"
   ]
  },
  {
   "cell_type": "code",
   "execution_count": 19,
   "metadata": {},
   "outputs": [],
   "source": [
    "import json"
   ]
  },
  {
   "cell_type": "code",
   "execution_count": 20,
   "metadata": {},
   "outputs": [],
   "source": [
    "with open(\"womens_clothing_reviews_clean.json\", \"w\") as outfile:\n",
    "    json.dump(reviews_dict, outfile)"
   ]
  },
  {
   "cell_type": "code",
   "execution_count": null,
   "metadata": {},
   "outputs": [],
   "source": []
  }
 ],
 "metadata": {
  "kernelspec": {
   "display_name": "Python 3 (ipykernel)",
   "language": "python",
   "name": "python3"
  },
  "language_info": {
   "codemirror_mode": {
    "name": "ipython",
    "version": 3
   },
   "file_extension": ".py",
   "mimetype": "text/x-python",
   "name": "python",
   "nbconvert_exporter": "python",
   "pygments_lexer": "ipython3",
   "version": "3.8.17"
  }
 },
 "nbformat": 4,
 "nbformat_minor": 4
}
